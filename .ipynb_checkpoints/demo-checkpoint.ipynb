{
 "cells": [
  {
   "cell_type": "code",
   "execution_count": null,
   "metadata": {},
   "outputs": [],
   "source": [
    "import numpy as np\n",
    "import tensorflow as tf\n",
    "import cv2\n",
    "import sys\n",
    "# 绘图\n",
    "%matplotlib inline\n",
    "from matplotlib import pyplot as plt\n",
    "tf.enable_eager_execution()"
   ]
  },
  {
   "cell_type": "code",
   "execution_count": null,
   "metadata": {},
   "outputs": [],
   "source": [
    "\"\"\"\n",
    "image = cv2.imread(r'face.jpg')\n",
    "a = np.zeros_like(image)\n",
    "a[:,:,2] = image[:,:,0]\n",
    "a[:,:,1] = image[:,:,1]\n",
    "a[:,:,0] = image[:,:,2]\n",
    "image = a.copy()\n",
    "\"\"\"\n",
    "image = plt.imread(\"Anthony_Hopkins_0001.jpg.jpg\")\n",
    "h, w, _ = image.shape"
   ]
  },
  {
   "cell_type": "code",
   "execution_count": 165,
   "metadata": {},
   "outputs": [],
   "source": [
    "class PNet(tf.keras.Model):\n",
    "    def __init__(self):\n",
    "        super(PNet, self).__init__()\n",
    "        self.conv1 = conv2d(10, 3, 1, 'valid', name='conv1')\n",
    "        self.prelu1 = tf.keras.layers.PReLU(name='prelu1', shared_axes=[1, 2])\n",
    "        self.pool1 = pool2d(name='pool1')\n",
    "\n",
    "        self.conv2 = conv2d(16, 3, 1, 'valid', name='conv2')\n",
    "        self.prelu2 = tf.keras.layers.PReLU(name='prelu2', shared_axes=[1, 2])\n",
    "\n",
    "        self.conv3 = conv2d(32, 3, 1, 'valid', name='conv3')\n",
    "        self.prelu3 = tf.keras.layers.PReLU(name='prelu3', shared_axes=[1, 2])\n",
    "\n",
    "        self.conv4_1 = conv2d(\n",
    "            2, 1, 1, 'same', activation='softmax', name='conv4_1')\n",
    "        self.conv4_2 = conv2d(4, 1, 1, 'same', name='conv4_2')\n",
    "\n",
    "    def call(self, input_):\n",
    "        out = self.conv1(input_)\n",
    "        out = self.prelu1(out)\n",
    "        out = self.pool1(out)\n",
    "        out = self.conv2(out)\n",
    "        out = self.prelu2(out)\n",
    "        out = self.conv3(out)\n",
    "        out = self.prelu3(out)\n",
    "\n",
    "        prob = self.conv4_1(out)\n",
    "        loc = self.conv4_2(out)\n",
    "        return prob, loc\n",
    "\n",
    "    def model_variable_initialize(self):\n",
    "        image = tf.random_normal((1, 12, 12, 3))\n",
    "        with tf.name_scope('PNet'):\n",
    "            self.call(image)\n",
    "        print(\"P Completed\")\n",
    "\n",
    "\n",
    "class RNet(tf.keras.Model):\n",
    "    def __init__(self):\n",
    "        super(RNet, self).__init__()\n",
    "        self.conv1 = conv2d(28, 3, 1, 'valid', name='conv1')\n",
    "        self.prelu1 = tf.keras.layers.PReLU(name='prelu1', shared_axes=[1, 2])\n",
    "        self.pool1 = pool2d(3, 2, name='pool1')\n",
    "\n",
    "        self.conv2 = conv2d(48, 3, 1, 'valid', name='conv2')\n",
    "        self.prelu2 = tf.keras.layers.PReLU(name='prelu2', shared_axes=[1, 2])\n",
    "        self.pool2 = pool2d(3, 2, 'valid', name='pool2')\n",
    "\n",
    "        self.conv3 = conv2d(64, 2, 1, 'valid', name='conv3')\n",
    "        self.prelu3 = tf.keras.layers.PReLU(name='prelu3', shared_axes=[1, 2])\n",
    "\n",
    "        self.flatten = tf.keras.layers.Flatten()\n",
    "        self.fc1 = tf.keras.layers.Dense(128, name='fc1')\n",
    "        self.prelu4 = tf.keras.layers.PReLU(name='prelu4')\n",
    "\n",
    "        self.fc2_1 = tf.keras.layers.Dense(\n",
    "            2, activation='softmax', name='fc2_1')\n",
    "        self.fc2_2 = tf.keras.layers.Dense(4, name='fc2_2')\n",
    "\n",
    "    def call(self, input_):\n",
    "        out = self.conv1(input_)\n",
    "        out = self.prelu1(out)\n",
    "        out = self.pool1(out)\n",
    "        out = self.conv2(out)\n",
    "        out = self.prelu2(out)\n",
    "        out = self.pool2(out)\n",
    "        out = self.conv3(out)\n",
    "        out = self.prelu3(out)\n",
    "        out = self.flatten(out)\n",
    "        out = self.fc1(out)\n",
    "        out = self.prelu4(out)\n",
    "\n",
    "        prob = self.fc2_1(out)\n",
    "        loc = self.fc2_2(out)\n",
    "        return prob, loc\n",
    "\n",
    "    def model_variable_initialize(self):\n",
    "        image = tf.random_normal((1, 24, 24, 3))\n",
    "        with tf.name_scope('RNet'):\n",
    "            self.call(image)\n",
    "        print(\"R Completed\")\n",
    "\n",
    "\n",
    "class ONet(tf.keras.Model):\n",
    "    def __init__(self):\n",
    "        super(ONet, self).__init__()\n",
    "        self.conv1 = conv2d(32, 3, 1, 'valid', name='conv1')\n",
    "        self.prelu1 = tf.keras.layers.PReLU(name='prelu1', shared_axes=[1, 2])\n",
    "        self.pool1 = pool2d(3, 2, name='pool1')\n",
    "\n",
    "        self.conv2 = conv2d(64, 3, 1, 'valid', name='conv2')\n",
    "        self.prelu2 = tf.keras.layers.PReLU(name='prelu2', shared_axes=[1, 2])\n",
    "        self.pool2 = pool2d(3, 2, 'valid', name='pool2')\n",
    "\n",
    "        self.conv3 = conv2d(64, 3, 1, 'valid', name='conv3')\n",
    "        self.prelu3 = tf.keras.layers.PReLU(name='prelu3', shared_axes=[1, 2])\n",
    "        self.pool3 = pool2d(2, 2, name='pool3')\n",
    "\n",
    "        self.conv4 = conv2d(128, 2, 1, 'valid', name='conv4')\n",
    "        self.prelu4 = tf.keras.layers.PReLU(name='prelu4', shared_axes=[1, 2])\n",
    "\n",
    "        self.flatten = tf.keras.layers.Flatten()\n",
    "        self.fc1 = tf.keras.layers.Dense(256, name='fc1')\n",
    "        self.prelu5 = tf.keras.layers.PReLU(name='prelu5')\n",
    "\n",
    "        self.fc2_1 = tf.keras.layers.Dense(\n",
    "            2, activation='softmax', name='fc2_1')\n",
    "        self.fc2_2 = tf.keras.layers.Dense(4, name='fc2_2')\n",
    "        self.fc2_3 = tf.keras.layers.Dense(10, name='fc2_3')\n",
    "\n",
    "    def call(self, input_):\n",
    "        out = self.conv1(input_)\n",
    "        out = self.prelu1(out)\n",
    "        out = self.pool1(out)\n",
    "        out = self.conv2(out)\n",
    "        out = self.prelu2(out)\n",
    "        out = self.pool2(out)\n",
    "        out = self.conv3(out)\n",
    "        out = self.prelu3(out)\n",
    "        out = self.pool3(out)\n",
    "        out = self.conv4(out)\n",
    "        out = self.prelu4(out)\n",
    "        out = self.flatten(out)\n",
    "        out = self.fc1(out)\n",
    "        out = self.prelu5(out)\n",
    "\n",
    "        prob = self.fc2_1(out)\n",
    "        loc = self.fc2_2(out)\n",
    "        landmark = self.fc2_3(out)\n",
    "        return prob, loc, landmark\n",
    "\n",
    "    def model_variable_initialize(self):\n",
    "        image = tf.random_normal((1, 48, 48, 3))\n",
    "        with tf.name_scope('ONet'):\n",
    "            self.call(image)\n",
    "        print(\"O Completed\")\n",
    "\n",
    "\n",
    "def conv2d(filter, ksize=3, stride=1, padding='same', dilation=1, activation=None, name=\"conv2d\"):\n",
    "    ksize = [ksize] * 2\n",
    "    strides = [stride] * 2\n",
    "    dilation = [dilation] * 2\n",
    "    return tf.keras.layers.Conv2D(filters=filter, kernel_size=ksize, strides=strides, padding=padding, dilation_rate=dilation, activation=activation, name=name)\n",
    "\n",
    "\n",
    "def pool2d(ksize=2, stride=2, padding='same', name='pool2d'):\n",
    "    ksize = [ksize] * 2\n",
    "    strides = [stride]*2\n",
    "    return tf.keras.layers.MaxPool2D(pool_size=ksize, strides=strides, padding=padding, name=name)\n",
    "\n"
   ]
  },
  {
   "cell_type": "code",
   "execution_count": 92,
   "metadata": {},
   "outputs": [
    {
     "name": "stdout",
     "output_type": "stream",
     "text": [
      "P Completed\n",
      "R Completed\n",
      "O Completed\n"
     ]
    }
   ],
   "source": [
    "P = PNet()\n",
    "R = RNet()\n",
    "O = ONet()\n",
    "P.model_variable_initialize()\n",
    "R.model_variable_initialize()\n",
    "O.model_variable_initialize()"
   ]
  },
  {
   "cell_type": "code",
   "execution_count": 93,
   "metadata": {},
   "outputs": [
    {
     "data": {
      "text/plain": [
       "<tensorflow.python.training.checkpointable.util.CheckpointLoadStatus at 0x2eb366a5128>"
      ]
     },
     "execution_count": 93,
     "metadata": {},
     "output_type": "execute_result"
    }
   ],
   "source": [
    "P.load_weights(\"./checkpoints/pnet/model\")\n",
    "R.load_weights(\"./checkpoints/rnet/model\")\n",
    "O.load_weights(\"./checkpoints/onet/model\")"
   ]
  },
  {
   "cell_type": "code",
   "execution_count": 211,
   "metadata": {},
   "outputs": [],
   "source": [
    "########################################################################\n",
    "# Note: first stage for PNet.\n",
    "########################################################################\n",
    "images, scales = generate_samples_from_image(image, 50)\n",
    "total_bboxes = []\n",
    "total_bboxes_ref = []\n",
    "for img, scale in zip(images, scales):\n",
    "    prob, loc = P(np.transpose(img,(0,2,1,3)))\n",
    "    prob = tf.transpose(prob,(0,2,1,3))\n",
    "    loc = tf.transpose(loc,(0,2,1,3))\n",
    "    original_bboxes = generate_original_boxes(loc.numpy(), scale)\n",
    "    filter_mask = tf.argmax(prob, axis=-1)\n",
    "    bboxes_tf = tf.boolean_mask(original_bboxes, filter_mask)\n",
    "    bboxes_ref_tf = tf.boolean_mask(loc, filter_mask)\n",
    "    local_bboxes, local_bboxes_ref = bboxes_nms(\n",
    "        bboxes_tf.numpy(), bboxes_ref_tf.numpy(), 0.5)\n",
    "    total_bboxes.append(local_bboxes)\n",
    "    total_bboxes_ref.append(local_bboxes_ref)\n",
    "total_bboxes = np.concatenate(total_bboxes)\n",
    "total_bboxes_ref = np.concatenate(total_bboxes_ref)\n",
    "bboxes, bboxes_ref = bboxes_nms(total_bboxes, total_bboxes_ref, 0.7)\n",
    "bboxes = bboxes_reg(bboxes, bboxes_ref)\n",
    "bboxes = rec2square(bboxes.copy())\n",
    "bboxes_pnet, pad_bboxes = bboxes_clip(bboxes, w, h)\n",
    "images = crop_image(image, bboxes_pnet, pad_bboxes)"
   ]
  },
  {
   "cell_type": "code",
   "execution_count": 212,
   "metadata": {},
   "outputs": [
    {
     "data": {
      "text/plain": [
       "(23, 24, 24, 3)"
      ]
     },
     "execution_count": 212,
     "metadata": {},
     "output_type": "execute_result"
    }
   ],
   "source": [
    "images.shape"
   ]
  },
  {
   "cell_type": "code",
   "execution_count": 213,
   "metadata": {},
   "outputs": [],
   "source": [
    "rnet_prob, rnet_loc = R(np.transpose(images,(0,2,1,3)))\n",
    "scores = rnet_prob[:, 1]\n",
    "filter_mask_rnet = scores > 0.7\n",
    "bboxes_ref_rnet_tf = tf.boolean_mask(rnet_loc, filter_mask_rnet)\n",
    "bboxes_rnet_tf = tf.boolean_mask(bboxes_pnet, filter_mask_rnet)\n",
    "bboxes_rnet = bboxes_select(\n",
    "    bboxes_rnet_tf.numpy(), bboxes_ref_rnet_tf.numpy(), 0.7)\n",
    "bboxes_rnet, pad_bboxes_rnet = bboxes_clip(bboxes_rnet, w, h)\n",
    "images = crop_image(image, bboxes_rnet, pad_bboxes_rnet, [48, 48])"
   ]
  },
  {
   "cell_type": "code",
   "execution_count": 214,
   "metadata": {},
   "outputs": [
    {
     "data": {
      "text/plain": [
       "(4, 48, 48, 3)"
      ]
     },
     "execution_count": 214,
     "metadata": {},
     "output_type": "execute_result"
    }
   ],
   "source": [
    "images.shape"
   ]
  },
  {
   "cell_type": "code",
   "execution_count": 215,
   "metadata": {},
   "outputs": [],
   "source": [
    "onet_prob, onet_loc, onet_landmark = O(np.transpose(images,(0,2,1,3)))\n",
    "scores = onet_prob[:, 1]\n",
    "filter_mask_onet = scores > 0.7\n",
    "bboxes_ref_onet_tf = tf.boolean_mask(onet_loc, filter_mask_onet)\n",
    "bboxes_onet_tf = tf.boolean_mask(bboxes_rnet, filter_mask_onet)\n",
    "\n",
    "bboxes_onet = bboxes_select(\n",
    "    bboxes_onet_tf.numpy(), bboxes_ref_onet_tf.numpy(), 0.7,'min')\n",
    "bboxes_onet, pad_bboxes_onet = bboxes_clip(bboxes_onet, w, h)"
   ]
  },
  {
   "cell_type": "code",
   "execution_count": 216,
   "metadata": {},
   "outputs": [
    {
     "data": {
      "text/plain": [
       "array([[127,  29, 214, 116]])"
      ]
     },
     "execution_count": 216,
     "metadata": {},
     "output_type": "execute_result"
    }
   ],
   "source": [
    "bboxes_onet"
   ]
  },
  {
   "cell_type": "code",
   "execution_count": 217,
   "metadata": {},
   "outputs": [
    {
     "data": {
      "text/plain": [
       "0.98377234"
      ]
     },
     "execution_count": 217,
     "metadata": {},
     "output_type": "execute_result"
    }
   ],
   "source": [
    "np.max(scores.numpy())"
   ]
  },
  {
   "cell_type": "code",
   "execution_count": 218,
   "metadata": {},
   "outputs": [
    {
     "data": {
      "text/plain": [
       "<matplotlib.image.AxesImage at 0x2eb3a6b7e80>"
      ]
     },
     "execution_count": 218,
     "metadata": {},
     "output_type": "execute_result"
    },
    {
     "data": {
      "image/png": "[encoded data removed]",
      "text/plain": [
       "<Figure size 432x288 with 1 Axes>"
      ]
     },
     "metadata": {
      "needs_background": "light"
     },
     "output_type": "display_data"
    }
   ],
   "source": [
    "x1,y1,x2,y2 = [127,  29, 214, 116]\n",
    "temp = image[y1:y2,x1:x2]\n",
    "plt.imshow(temp)"
   ]
  },
  {
   "cell_type": "code",
   "execution_count": 208,
   "metadata": {},
   "outputs": [
    {
     "ename": "AttributeError",
     "evalue": "module 'cv2' has no attribute 'CV_LOAD_IMAGE_UNCHANGED'",
     "output_type": "error",
     "traceback": [
      "\u001b[1;31m---------------------------------------------------------------------------\u001b[0m",
      "\u001b[1;31mAttributeError\u001b[0m                            Traceback (most recent call last)",
      "\u001b[1;32m<ipython-input-208-b2f642c0e167>\u001b[0m in \u001b[0;36m<module>\u001b[1;34m()\u001b[0m\n\u001b[1;32m----> 1\u001b[1;33m \u001b[0mimage\u001b[0m \u001b[1;33m=\u001b[0m \u001b[0mcv2\u001b[0m\u001b[1;33m.\u001b[0m\u001b[0mimread\u001b[0m\u001b[1;33m(\u001b[0m\u001b[1;34mr'‪C:\\Users\\Mashiro\\Desktop\\m.png'\u001b[0m\u001b[1;33m,\u001b[0m\u001b[0mcv2\u001b[0m\u001b[1;33m.\u001b[0m\u001b[0mCV_LOAD_IMAGE_UNCHANGED\u001b[0m\u001b[1;33m)\u001b[0m\u001b[1;33m\u001b[0m\u001b[0m\n\u001b[0m\u001b[0;32m      2\u001b[0m \u001b[1;31m#plt.imshow(image)\u001b[0m\u001b[1;33m\u001b[0m\u001b[1;33m\u001b[0m\u001b[0m\n\u001b[0;32m      3\u001b[0m \u001b[0mimage\u001b[0m\u001b[1;33m.\u001b[0m\u001b[0mshape\u001b[0m\u001b[1;33m\u001b[0m\u001b[0m\n",
      "\u001b[1;31mAttributeError\u001b[0m: module 'cv2' has no attribute 'CV_LOAD_IMAGE_UNCHANGED'"
     ]
    }
   ],
   "source": [
    "image = cv2.imread(r'‪C:\\Users\\Mashiro\\Desktop\\m.png',cv2.CV_LOAD_IMAGE_UNCHANGED)\n",
    "#plt.imshow(image)\n",
    "image.shape"
   ]
  },
  {
   "cell_type": "code",
   "execution_count": null,
   "metadata": {},
   "outputs": [],
   "source": [
    "cv2.namedWindow(\"Image\")\n",
    "cv2.imshow(\"Image\", image)\n",
    "cv2.waitKey (0)"
   ]
  },
  {
   "cell_type": "code",
   "execution_count": null,
   "metadata": {},
   "outputs": [],
   "source": [
    "np.pad(a, ((1,1),(0,0)), 'constant', constant_values=0)"
   ]
  },
  {
   "cell_type": "code",
   "execution_count": 9,
   "metadata": {},
   "outputs": [],
   "source": [
    "class Detect(object):\n",
    "    def __init__(self, pnet, rnet, onet):\n",
    "        self.P = pnet\n",
    "        self.R = rnet\n",
    "        self.O = onet\n",
    "\n",
    "    def detect_face(self, image, minsize=30):\n",
    "        h, w, _ = image.shape\n",
    "        images, scales = generate_samples_from_image(image, minsize)\n",
    "        ########################################################################\n",
    "        # Note: first stage for PNet.\n",
    "        ########################################################################\n",
    "        total_bboxes = []\n",
    "        total_bboxes_ref = []\n",
    "        for img, scale in zip(images, scales):\n",
    "            pnet_prob, pnet_loc = self.P(np.transpose(img, (0, 2, 1, 3)))\n",
    "            pnet_prob = tf.transpose(pnet_prob, (0, 2, 1, 3))\n",
    "            pnet_loc = tf.transpose(pnet_loc, (0, 2, 1, 3))\n",
    "            original_bboxes = generate_original_boxes(pnet_loc.numpy(), scale)\n",
    "            filter_mask = tf.argmax(pnet_prob, axis=-1)\n",
    "            bboxes_tf = tf.boolean_mask(original_bboxes, filter_mask)\n",
    "            bboxes_ref_tf = tf.boolean_mask(pnet_loc, filter_mask)\n",
    "            local_bboxes, local_bboxes_ref = bboxes_nms(\n",
    "                bboxes_tf.numpy(), bboxes_ref_tf.numpy(), 0.6)\n",
    "            total_bboxes.append(local_bboxes)\n",
    "            total_bboxes_ref.append(local_bboxes_ref)\n",
    "        total_bboxes = np.concatenate(total_bboxes)\n",
    "        total_bboxes_ref = np.concatenate(total_bboxes_ref)\n",
    "        bboxes_pnet = bboxes_select(total_bboxes, total_bboxes_ref, 0.7)\n",
    "        if bboxes_pnet.shape[0] == 0:\n",
    "            return None\n",
    "        bboxes_pnet, pad_bboxes_pnet = bboxes_clip(bboxes_pnet, w, h)\n",
    "        images = crop_image(image, bboxes_pnet, pad_bboxes_pnet)\n",
    "        ########################################################################\n",
    "        # Note: second stage for RNet.\n",
    "        ########################################################################\n",
    "        rnet_prob, rnet_loc = self.R(np.transpose(images, (0, 2, 1, 3)))\n",
    "        scores = rnet_prob[:, 1]\n",
    "        filter_mask_rnet = scores > 0.7\n",
    "        bboxes_ref_rnet_tf = tf.boolean_mask(rnet_loc, filter_mask_rnet)\n",
    "        bboxes_rnet_tf = tf.boolean_mask(bboxes_pnet, filter_mask_rnet)\n",
    "        bboxes_rnet = bboxes_select(\n",
    "            bboxes_rnet_tf.numpy(), bboxes_ref_rnet_tf.numpy(), 0.7)\n",
    "        if bboxes_rnet.shape[0] == 0:\n",
    "            return None\n",
    "        bboxes_rnet, pad_bboxes_rnet = bboxes_clip(bboxes_rnet, w, h)\n",
    "        images = crop_image(image, bboxes_rnet, pad_bboxes_rnet, [48, 48])\n",
    "        ########################################################################\n",
    "        # Note: third stage for RNet.\n",
    "        ########################################################################\n",
    "        onet_prob, onet_loc, onet_landmark = self.O(\n",
    "            np.transpose(images, (0, 2, 1, 3)))\n",
    "        scores = onet_prob[:, 1]\n",
    "        filter_mask_onet = scores > 0.7\n",
    "        bboxes_ref_onet_tf = tf.boolean_mask(rnet_loc, filter_mask_onet)\n",
    "        bboxes_onet_tf = tf.boolean_mask(bboxes_rnet, filter_mask_onet)\n",
    "        bboxes_onet = bboxes_select(\n",
    "            bboxes_onet_tf.numpy(), bboxes_ref_onet_tf.numpy(), 0.7)\n",
    "        if bboxes_onet.shape[0] == 0:\n",
    "            return None\n",
    "        bboxes_onet, pad_bboxes_onet = bboxes_clip(bboxes_onet, w, h)\n",
    "        return bboxes_onet\n"
   ]
  },
  {
   "cell_type": "code",
   "execution_count": 10,
   "metadata": {},
   "outputs": [],
   "source": [
    "detect = Detect(P,R,O)"
   ]
  },
  {
   "cell_type": "code",
   "execution_count": 12,
   "metadata": {},
   "outputs": [],
   "source": [
    "loc = detect.detect_face(image)"
   ]
  },
  {
   "cell_type": "code",
   "execution_count": 13,
   "metadata": {},
   "outputs": [],
   "source": [
    "loc"
   ]
  },
  {
   "cell_type": "code",
   "execution_count": 19,
   "metadata": {},
   "outputs": [
    {
     "name": "stdout",
     "output_type": "stream",
     "text": [
      "PNet/conv1/kernel:0\n",
      "PNet/conv1/bias:0\n",
      "PNet/prelu1/alpha:0\n",
      "PNet/conv2/kernel:0\n",
      "PNet/conv2/bias:0\n",
      "PNet/prelu2/alpha:0\n",
      "PNet/conv3/kernel:0\n",
      "PNet/conv3/bias:0\n",
      "PNet/prelu3/alpha:0\n",
      "PNet/conv4_1/kernel:0\n",
      "PNet/conv4_1/bias:0\n",
      "PNet/conv4_2/kernel:0\n",
      "PNet/conv4_2/bias:0\n"
     ]
    }
   ],
   "source": [
    "for v in P.variables:\n",
    "    print(v.name)"
   ]
  },
  {
   "cell_type": "code",
   "execution_count": 209,
   "metadata": {},
   "outputs": [
    {
     "data": {
      "text/plain": [
       "'3.4.2'"
      ]
     },
     "execution_count": 209,
     "metadata": {},
     "output_type": "execute_result"
    }
   ],
   "source": [
    "cv2.__version__"
   ]
  },
  {
   "cell_type": "code",
   "execution_count": null,
   "metadata": {},
   "outputs": [],
   "source": []
  },
  {
   "cell_type": "code",
   "execution_count": null,
   "metadata": {},
   "outputs": [],
   "source": []
  },
  {
   "cell_type": "code",
   "execution_count": null,
   "metadata": {},
   "outputs": [],
   "source": []
  },
  {
   "cell_type": "code",
   "execution_count": null,
   "metadata": {},
   "outputs": [],
   "source": []
  },
  {
   "cell_type": "code",
   "execution_count": null,
   "metadata": {},
   "outputs": [],
   "source": []
  },
  {
   "cell_type": "code",
   "execution_count": null,
   "metadata": {},
   "outputs": [],
   "source": []
  },
  {
   "cell_type": "code",
   "execution_count": null,
   "metadata": {},
   "outputs": [],
   "source": []
  },
  {
   "cell_type": "code",
   "execution_count": null,
   "metadata": {},
   "outputs": [],
   "source": []
  },
  {
   "cell_type": "code",
   "execution_count": null,
   "metadata": {},
   "outputs": [],
   "source": []
  },
  {
   "cell_type": "code",
   "execution_count": null,
   "metadata": {},
   "outputs": [],
   "source": []
  },
  {
   "cell_type": "code",
   "execution_count": 24,
   "metadata": {},
   "outputs": [],
   "source": [
    "def resize_image(image, size=(12, 12)):\n",
    "    return cv2.resize(image, size)\n",
    "\n",
    "\n",
    "def preprocess_image(image):\n",
    "    \"\"\"Preprocess a image\"\"\"\n",
    "    image_cp = np.copy(image).astype(np.float32)\n",
    "    # regularize the image\n",
    "    image_regular = (image_cp-127.5)/128\n",
    "    # expand the batch_size dim\n",
    "    image_expanded = np.expand_dims(image_regular, axis=0)\n",
    "    return image_expanded\n",
    "\n",
    "\n",
    "def cal_scales(minsize, factor=0.709, size=(12, 12)):\n",
    "    minlen = np.min(size)\n",
    "    s = 12.0/minsize\n",
    "    minlen *= (s*factor)\n",
    "    scales = [s]\n",
    "    while (minlen >= 12):\n",
    "        scales.append(s * np.power(factor, len(scales)))\n",
    "        minlen *= factor\n",
    "    return scales\n",
    "\n",
    "\n",
    "def generate_samples_from_image(image, minsize=20, factor=0.709):\n",
    "    height, weight, _ = image.shape\n",
    "    scales = cal_scales(minsize, factor, size=(weight, height))\n",
    "    images = []\n",
    "    for scale in scales:\n",
    "        w, h = int(np.ceil(weight * scale)), int(np.ceil(height * scale))\n",
    "        images.append(preprocess_image(resize_image(image, size=(h, w))))\n",
    "    return images, scales\n",
    "\n",
    "\n",
    "def generate_original_boxes(bbox_reg, scale):\n",
    "    # bboxes shape of (1,h,w,4)\n",
    "    bboxes = np.zeros_like(bbox_reg, dtype=np.float32)\n",
    "    _, h, w, _ = np.shape(bboxes)\n",
    "    y, x = np.mgrid[0:h, 0:w]\n",
    "    bboxes[0, :, :, 0] = x * 2 / scale\n",
    "    bboxes[0, :, :, 1] = y * 2 / scale\n",
    "    bboxes[0, :, :, 2] = (x * 2+12) / scale\n",
    "    bboxes[0, :, :, 3] = (y * 2+12) / scale\n",
    "    return tf.convert_to_tensor(bboxes)\n",
    "\n",
    "\n",
    "def bboxes_iou(bboxes1, bboxes2, method=\"union\"):\n",
    "    \"\"\"Computing iou between bboxes1 and bboxes2.\n",
    "    Note: bboxes1 and bboxes2 can be multi-dimensional, but should broacastable.\n",
    "    \"\"\"\n",
    "    bboxes1 = np.transpose(bboxes1)\n",
    "    bboxes2 = np.transpose(bboxes2)\n",
    "    # Intersection bbox and volume.\n",
    "    int_ymin = np.maximum(bboxes1[0], bboxes2[0])\n",
    "    int_xmin = np.maximum(bboxes1[1], bboxes2[1])\n",
    "    int_ymax = np.minimum(bboxes1[2], bboxes2[2])\n",
    "    int_xmax = np.minimum(bboxes1[3], bboxes2[3])\n",
    "\n",
    "    int_h = np.maximum(int_ymax - int_ymin, 0.)\n",
    "    int_w = np.maximum(int_xmax - int_xmin, 0.)\n",
    "    int_vol = int_h * int_w\n",
    "    # Union volume.\n",
    "    vol1 = (bboxes1[2] - bboxes1[0]) * (bboxes1[3] - bboxes1[1])\n",
    "    vol2 = (bboxes2[2] - bboxes2[0]) * (bboxes2[3] - bboxes2[1])\n",
    "\n",
    "    if method == \"min\":\n",
    "        iou = int_vol / np.minimum(vol1, vol2)\n",
    "    else:\n",
    "        iou = int_vol / (vol1 + vol2 - int_vol)\n",
    "    return iou\n",
    "\n",
    "\n",
    "def bboxes_nms(bboxes, bboxes_ref, nms_threshold=0.5, method=\"union\"):\n",
    "    \"\"\"Apply non-maximum selection to bounding boxes.\n",
    "    \"\"\"\n",
    "    keep_bboxes = np.ones((bboxes.shape[0],), dtype=np.bool)\n",
    "    for i in range(bboxes.shape[0]-1):\n",
    "        if keep_bboxes[i]:\n",
    "            # Computer overlap with bboxes which are following.\n",
    "            overlap = bboxes_iou(bboxes[i], bboxes[(i+1):], method)\n",
    "            # Overlap threshold for keeping + checking part of the same class\n",
    "            keep_overlap = overlap < nms_threshold\n",
    "            keep_bboxes[(i+1):] = np.logical_and(keep_bboxes[(i+1):],\n",
    "                                                 keep_overlap)\n",
    "    idxes = np.where(keep_bboxes)\n",
    "    return bboxes[idxes], bboxes_ref[idxes]\n",
    "\n",
    "\n",
    "def bboxes_reg(bboxes, bboxes_ref):\n",
    "    \"\"\"boxes bounding regression.\n",
    "\n",
    "    Args:\n",
    "        bboxes ([array]): original boxes\n",
    "        bboxes_ref ([array]): [description]\n",
    "\n",
    "    Returns:\n",
    "        [array]: [description]\n",
    "    \"\"\"\n",
    "    bboxes = bboxes.astype(np.float32)\n",
    "    w = bboxes[:, 2] - bboxes[:, 0] + 1\n",
    "    h = bboxes[:, 3] - bboxes[:, 1] + 1\n",
    "    bboxes[:, 0] += bboxes_ref[:, 0] * w\n",
    "    bboxes[:, 1] += bboxes_ref[:, 1] * h\n",
    "    bboxes[:, 2] += bboxes_ref[:, 2] * w\n",
    "    bboxes[:, 3] += bboxes_ref[:, 3] * h\n",
    "    return bboxes\n",
    "\n",
    "\n",
    "def rec2square(bboxes):\n",
    "    \"\"\"Convert bbox to square.\"\"\"\n",
    "    h = bboxes[:, 3]-bboxes[:, 1]\n",
    "    w = bboxes[:, 2]-bboxes[:, 0]\n",
    "    l = np.maximum(w, h)\n",
    "    bboxes[:, 0] = bboxes[:, 0]+w*0.5-l*0.5\n",
    "    bboxes[:, 1] = bboxes[:, 1]+h*0.5-l*0.5\n",
    "    bboxes[:, 2:4] = bboxes[:, 0:2] + np.transpose(np.tile(l, (2, 1)))\n",
    "    return bboxes\n",
    "\n",
    "\n",
    "def bboxes_clip(bboxes, w, h):\n",
    "    \"\"\"Clip bounding boxes\n",
    "\n",
    "    Args:\n",
    "        bboxes ([array]): shape of (N, 4)\n",
    "        w ([int]): the width of input image\n",
    "        h ([int]): the heigh of input image\n",
    "\n",
    "    Returns:\n",
    "        [tuple of array]: return the position of cliped boxes and\n",
    "        padding for each axis\n",
    "    \"\"\"\n",
    "    bboxes_cp = bboxes.copy()\n",
    "    boxes_w = (bboxes[:, 2]-bboxes[:, 0]+1).astype(np.int32)\n",
    "    boxes_h = (bboxes[:, 3] - bboxes[:, 0] + 1).astype(np.int32)\n",
    "    bboxes_cp[:, 0] = np.maximum(bboxes[:, 0], 0)\n",
    "    bboxes_cp[:, 1] = np.maximum(bboxes[:, 1], 0)\n",
    "    bboxes_cp[:, 2] = np.minimum(bboxes[:, 2], w)\n",
    "    bboxes_cp[:, 3] = np.minimum(bboxes[:, 3], h)\n",
    "\n",
    "    pad_bboxes = np.zeros_like(bboxes, dtype=np.int32)\n",
    "    pad_bboxes[:, 0] = bboxes_cp[:, 0] - bboxes[:, 0]\n",
    "    pad_bboxes[:, 1] = bboxes_cp[:, 1] - bboxes[:, 1]\n",
    "    pad_bboxes[:, 2] = bboxes[:, 2] - bboxes_cp[:, 2]\n",
    "    pad_bboxes[:, 3] = bboxes[:, 3] - bboxes_cp[:, 3]\n",
    "    pad_bboxes[pad_bboxes < 0] = 0\n",
    "    return bboxes_cp.astype(np.int32), pad_bboxes\n",
    "\n",
    "\n",
    "def crop_image(image, bboxes, pad_bboxes, size=[24, 24]):\n",
    "    # example shape of [N,24,24,3]\n",
    "    shape = [bboxes.shape[0]] + list(size) + [3]\n",
    "    images = np.zeros(shape, dtype=np.float32)\n",
    "    for idx in range(bboxes.shape[0]):\n",
    "        x1, y1, x2, y2 = bboxes[idx]\n",
    "        padding = ((pad_bboxes[idx, 1], pad_bboxes[idx, 3]),\n",
    "                   (pad_bboxes[idx, 0], pad_bboxes[idx, 2]),\n",
    "                   (0, 0))\n",
    "        temp_img = image[y1:y2, x1:x2, :]\n",
    "        temp_img = np.pad(\n",
    "            temp_img, padding, 'constant', constant_values=0)\n",
    "        images[idx] = resize_image(temp_img, size=tuple(size))\n",
    "    return (images-127.5)/128\n",
    "\n",
    "\n",
    "def bboxes_select(bboxes, bboxes_ref, threshold=0.5, method=\"union\"):\n",
    "    \"\"\"A series operation for boxes selected.\n",
    "\n",
    "    Args:\n",
    "        bboxes ([array]): Original locations for boxes, shape of (N, 4).\n",
    "        bboxes_ref ([array): Regression locations for boxes, shape of (N, 4).\n",
    "        threshold (float, optional): Defaults to 0.5.\n",
    "\n",
    "    Returns:\n",
    "        [array]: selected boxes.\n",
    "    \"\"\"\n",
    "    bboxes, bboxes_ref = bboxes_nms(\n",
    "        bboxes, bboxes_ref, threshold, method=method)\n",
    "    '''\n",
    "    if bboxes.shape[0] == 0:\n",
    "        return bboxes\n",
    "    '''\n",
    "    bboxes = bboxes_reg(bboxes, bboxes_ref)\n",
    "    bboxes = rec2square(bboxes.copy())\n",
    "    return bboxes\n"
   ]
  },
  {
   "cell_type": "code",
   "execution_count": null,
   "metadata": {},
   "outputs": [],
   "source": [
    "image.dtype"
   ]
  },
  {
   "cell_type": "code",
   "execution_count": null,
   "metadata": {},
   "outputs": [],
   "source": []
  }
 ],
 "metadata": {
  "kernelspec": {
   "display_name": "Python 3",
   "language": "python",
   "name": "python3"
  },
  "language_info": {
   "codemirror_mode": {
    "name": "ipython",
    "version": 3
   },
   "file_extension": ".py",
   "mimetype": "text/x-python",
   "name": "python",
   "nbconvert_exporter": "python",
   "pygments_lexer": "ipython3",
   "version": "3.7.0"
  }
 },
 "nbformat": 4,
 "nbformat_minor": 2
}
